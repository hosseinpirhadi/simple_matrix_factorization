{
 "cells": [
  {
   "cell_type": "code",
   "execution_count": 1,
   "metadata": {},
   "outputs": [],
   "source": [
    "import pandas as pd\n",
    "import numpy as np"
   ]
  },
  {
   "cell_type": "code",
   "execution_count": 409,
   "metadata": {},
   "outputs": [
    {
     "ename": "ValueError",
     "evalue": "cannot convert float NaN to integer",
     "output_type": "error",
     "traceback": [
      "\u001b[0;31m---------------------------------------------------------------------------\u001b[0m",
      "\u001b[0;31mValueError\u001b[0m                                Traceback (most recent call last)",
      "\u001b[1;32m/mnt/d/DR_Abedian/matrix_factorization.ipynb Cell 2\u001b[0m in \u001b[0;36m<cell line: 2>\u001b[0;34m()\u001b[0m\n\u001b[1;32m      <a href='vscode-notebook-cell://wsl%2Bubuntu-20.04/mnt/d/DR_Abedian/matrix_factorization.ipynb#W5sdnNjb2RlLXJlbW90ZQ%3D%3D?line=0'>1</a>\u001b[0m data \u001b[39m=\u001b[39m np\u001b[39m.\u001b[39mrandom\u001b[39m.\u001b[39mrandint(\u001b[39m5\u001b[39m, size\u001b[39m=\u001b[39m(\u001b[39m10\u001b[39m, \u001b[39m10\u001b[39m))\n\u001b[0;32m----> <a href='vscode-notebook-cell://wsl%2Bubuntu-20.04/mnt/d/DR_Abedian/matrix_factorization.ipynb#W5sdnNjb2RlLXJlbW90ZQ%3D%3D?line=1'>2</a>\u001b[0m data[\u001b[39m1\u001b[39m, \u001b[39m2\u001b[39m] \u001b[39m=\u001b[39m np\u001b[39m.\u001b[39mnan\n",
      "\u001b[0;31mValueError\u001b[0m: cannot convert float NaN to integer"
     ]
    }
   ],
   "source": [
    "data = np.random.randint(5, size=(10, 10))\n",
    "data[1, 2] = np.nan"
   ]
  },
  {
   "cell_type": "code",
   "execution_count": 339,
   "metadata": {},
   "outputs": [],
   "source": [
    "def comput_cost(data, p, q , b):\n",
    "    return np.sum(np.sum((data - (p@q.T + b ))**2))*0.01"
   ]
  },
  {
   "cell_type": "code",
   "execution_count": 395,
   "metadata": {},
   "outputs": [],
   "source": [
    "def gradient(data, p, q , b):\n",
    "    p_new =  p + 0.003*(data - (p@q.T + b))@q\n",
    "    q_new = q + 0.003*(data - (p@q.T + b))@p\n",
    "    b_new = b + 0.003*(data - (p@q.T + b))\n",
    "    return p_new, q_new , b_new"
   ]
  },
  {
   "cell_type": "code",
   "execution_count": 396,
   "metadata": {},
   "outputs": [
    {
     "data": {
      "text/plain": [
       "array([[0.77805191, 1.027759  , 0.46623186, 0.3429668 , 1.20849869,\n",
       "        0.6676211 , 1.2133218 , 1.20409552, 0.53698931, 0.58250818],\n",
       "       [1.00142048, 1.07071268, 0.9223594 , 0.89119049, 1.10833926,\n",
       "        0.96989288, 1.11138446, 1.10985745, 0.94077003, 0.94148864],\n",
       "       [0.95617949, 1.0809294 , 0.43422188, 0.22373937, 1.78556164,\n",
       "        0.94434627, 1.70427108, 1.64899397, 0.52960125, 1.13652093],\n",
       "       [0.59160529, 0.85783886, 0.26416357, 0.13477997, 1.0421257 ,\n",
       "        0.47327219, 1.04841449, 1.0392716 , 0.33878175, 0.37931148],\n",
       "       [1.6697914 , 1.77311761, 1.15908162, 0.95286983, 2.48825582,\n",
       "        1.66926758, 2.40300738, 2.34637645, 1.25093216, 1.87868213],\n",
       "       [1.45155327, 1.65736722, 1.10096517, 0.96131466, 1.96333532,\n",
       "        1.37160875, 1.94592043, 1.9253674 , 1.17462611, 1.36143512],\n",
       "       [0.7976935 , 0.6314243 , 0.5407171 , 0.43386881, 1.29054644,\n",
       "        0.92620962, 1.18113656, 1.12299283, 0.5697686 , 1.28066376],\n",
       "       [0.68389566, 0.88238421, 0.3232528 , 0.17941001, 1.21526598,\n",
       "        0.6094633 , 1.19332037, 1.17038098, 0.39798597, 0.61409399],\n",
       "       [0.72786346, 0.74482157, 0.40982612, 0.28074025, 1.25514153,\n",
       "        0.75549682, 1.18761309, 1.14590994, 0.46329794, 0.93998535],\n",
       "       [1.2525237 , 1.44236098, 0.77403784, 0.58215334, 1.98481143,\n",
       "        1.19714231, 1.93329299, 1.89287251, 0.86740947, 1.2871757 ]])"
      ]
     },
     "execution_count": 396,
     "metadata": {},
     "output_type": "execute_result"
    }
   ],
   "source": [
    "p = np.random.rand(10, 2)\n",
    "q = np.random.rand(10, 2)  \n",
    "b = np.random.rand(10, 1)\n",
    "p@q.T + b"
   ]
  },
  {
   "cell_type": "code",
   "execution_count": 404,
   "metadata": {},
   "outputs": [],
   "source": [
    "for _ in range(1000):\n",
    "    p, q, b= gradient(data, p, q, b)"
   ]
  },
  {
   "cell_type": "code",
   "execution_count": 388,
   "metadata": {},
   "outputs": [
    {
     "data": {
      "text/plain": [
       "array([[1.0928405 , 0.28699818],\n",
       "       [0.75934101, 0.69059174],\n",
       "       [0.54053408, 0.75777665],\n",
       "       [1.08059032, 0.0478681 ],\n",
       "       [1.01077752, 0.59456705],\n",
       "       [0.92125559, 0.08312245],\n",
       "       [0.99672867, 0.1353131 ],\n",
       "       [0.3844755 , 0.34657908],\n",
       "       [0.81355072, 0.47358065],\n",
       "       [0.9055484 , 0.54748031]])"
      ]
     },
     "execution_count": 388,
     "metadata": {},
     "output_type": "execute_result"
    }
   ],
   "source": [
    "p , q = gradient(data, p, q)\n",
    "p"
   ]
  },
  {
   "cell_type": "code",
   "execution_count": 405,
   "metadata": {},
   "outputs": [
    {
     "data": {
      "text/plain": [
       "2.6556169630658935"
      ]
     },
     "execution_count": 405,
     "metadata": {},
     "output_type": "execute_result"
    }
   ],
   "source": [
    "comput_cost(data, p, q)"
   ]
  },
  {
   "cell_type": "code",
   "execution_count": 406,
   "metadata": {},
   "outputs": [
    {
     "data": {
      "text/plain": [
       "array([[0.14802988, 1.0265586 , 3.02719522, 3.97258511, 1.17605327,\n",
       "        3.00681607, 3.82900172, 2.85234702, 2.88894568, 2.89114065],\n",
       "       [1.98046529, 1.98654609, 3.03537964, 3.00184202, 3.97433969,\n",
       "        1.12117757, 1.97707164, 1.96855654, 1.96929199, 1.96075329],\n",
       "       [3.84791905, 1.01946403, 3.95007867, 2.08095271, 3.95073712,\n",
       "        0.17421137, 0.07820262, 2.84802477, 0.0764378 , 2.85431801],\n",
       "       [1.12199163, 1.92663389, 2.0097573 , 3.96243518, 0.1681462 ,\n",
       "        2.05137715, 1.95174224, 1.86955238, 2.87967263, 3.83190125],\n",
       "       [2.00991203, 3.85774577, 3.0503737 , 2.10602166, 3.98167335,\n",
       "        1.13867404, 1.04738659, 1.96158762, 3.8474262 , 3.82759223],\n",
       "       [1.07864151, 1.01799023, 2.91403583, 0.16151797, 0.1172502 ,\n",
       "        3.86157889, 1.02606063, 1.9225357 , 3.82904581, 3.82437863],\n",
       "       [4.00106705, 0.07951769, 3.81988612, 2.12027043, 0.10331013,\n",
       "        3.89929308, 1.98151395, 0.92941389, 0.1162316 , 3.83954832],\n",
       "       [0.05312773, 3.77443089, 0.12277633, 1.0451801 , 1.99080421,\n",
       "        1.03238292, 0.03706963, 0.96128192, 0.97101022, 1.90233953],\n",
       "       [1.07939508, 1.02158737, 2.06911918, 3.95794141, 2.08110354,\n",
       "        2.98655612, 1.95820224, 1.91087184, 3.81728561, 1.01207899],\n",
       "       [1.12406211, 1.02658785, 0.18335399, 1.18228373, 3.91945683,\n",
       "        3.9212556 , 2.90048716, 3.7731098 , 2.90632703, 3.82570238]])"
      ]
     },
     "execution_count": 406,
     "metadata": {},
     "output_type": "execute_result"
    }
   ],
   "source": [
    "p@q.T + b"
   ]
  },
  {
   "cell_type": "code",
   "execution_count": null,
   "metadata": {},
   "outputs": [],
   "source": []
  }
 ],
 "metadata": {
  "kernelspec": {
   "display_name": "Python 3.10.4 ('UT')",
   "language": "python",
   "name": "python3"
  },
  "language_info": {
   "codemirror_mode": {
    "name": "ipython",
    "version": 3
   },
   "file_extension": ".py",
   "mimetype": "text/x-python",
   "name": "python",
   "nbconvert_exporter": "python",
   "pygments_lexer": "ipython3",
   "version": "3.10.4"
  },
  "orig_nbformat": 4,
  "vscode": {
   "interpreter": {
    "hash": "5bbdb35761f1632b9f971533c87484493e741433a2990a30b0c559907153b794"
   }
  }
 },
 "nbformat": 4,
 "nbformat_minor": 2
}
